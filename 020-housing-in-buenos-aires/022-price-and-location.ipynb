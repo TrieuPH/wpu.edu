{
 "cells": [
  {
   "cell_type": "code",
   "execution_count": 2,
   "metadata": {},
   "outputs": [],
   "source": [
    "import warnings\n",
    "\n",
    "import numpy as np\n",
    "import pandas as pd\n",
    "import plotly.express as px\n",
    "import plotly.graph_objects as go\n",
    "#import wqet_grader\n",
    "from IPython.display import VimeoVideo\n",
    "from sklearn.impute import SimpleImputer\n",
    "from sklearn.linear_model import LinearRegression\n",
    "from sklearn.metrics import mean_absolute_error\n",
    "from sklearn.pipeline import Pipeline, make_pipeline\n",
    "from sklearn.utils.validation import check_is_fitted"
   ]
  },
  {
   "cell_type": "code",
   "execution_count": null,
   "metadata": {},
   "outputs": [],
   "source": [
    "# Task 2.2.1: Use your wrangle function to create a DataFrame frame1 from the CSV file data/buenos-aires-real-estate-1.csv.\n",
    "frame1 = wrangle(\"./data/buenos-aires-real-estate-1.csv\")\n",
    "print(frame1.info())\n",
    "frame1.head()"
   ]
  },
  {
   "cell_type": "code",
   "execution_count": null,
   "metadata": {},
   "outputs": [],
   "source": [
    "# Task 2.2.2: Add to the wrangle function below so that, in the DataFrame it returns, the \"lat-lon\" column is replaced by separate \"lat\" and \"lon\" columns. \n",
    "# Don't forget to also drop the \"lat-lon\" column. \n",
    "# Be sure to rerun all the cells above before you continue.\n",
    "\n",
    "def wrangle(filepath):\n",
    "    # Read CSV file\n",
    "    df = pd.read_csv(filepath)\n",
    "\n",
    "    # Subset data: Apartments in \"Capital Federal\", less than 400,000\n",
    "    mask_ba = df[\"place_with_parent_names\"].str.contains(\"Capital Federal\")\n",
    "    mask_apt = df[\"property_type\"] == \"apartment\"\n",
    "    mask_price = df[\"price_aprox_usd\"] < 400_000\n",
    "    df = df[mask_ba & mask_apt & mask_price]\n",
    "\n",
    "    # Subset data: Remove outliers for \"surface_covered_in_m2\"\n",
    "    low, high = df[\"surface_covered_in_m2\"].quantile([0.1, 0.9])\n",
    "    mask_area = df[\"surface_covered_in_m2\"].between(low, high)\n",
    "    df = df[mask_area]\n",
    "\n",
    "    df[[\"lat\", \"lon\"]] = df[\"lat-lon\"].str.split(\",\", expand=True)\n",
    "    df = df.drop(\"lat-lon\", axis=\"columns\")\n",
    "    \n",
    "    return df"
   ]
  },
  {
   "cell_type": "code",
   "execution_count": null,
   "metadata": {},
   "outputs": [],
   "source": [
    "# Task 2.2.3: Use you revised wrangle function create a DataFrames frame2 from the file data/buenos-aires-real-estate-2.csv.\n",
    "\n",
    "frame2 = wrangle(\"./data/buenos-aires-real-estate-2.csv\")"
   ]
  },
  {
   "cell_type": "code",
   "execution_count": null,
   "metadata": {},
   "outputs": [],
   "source": [
    "# Task 2.2.4: Use pd.concat to concatenate frame1 and frame2 into a new DataFrame df. \n",
    "# Make sure you set the ignore_index argument to True.\n",
    "df = pd.concat([frame1,frame2])\n",
    "print(df.info())\n",
    "df.head()"
   ]
  },
  {
   "cell_type": "code",
   "execution_count": 3,
   "metadata": {},
   "outputs": [
    {
     "ename": "NameError",
     "evalue": "name 'df' is not defined",
     "output_type": "error",
     "traceback": [
      "\u001b[1;31m---------------------------------------------------------------------------\u001b[0m",
      "\u001b[1;31mNameError\u001b[0m                                 Traceback (most recent call last)",
      "\u001b[1;32mc:\\Users\\trieu.pham\\Dropbox\\Projects\\wqu.edu\\020-housing-in-buenos-aires\\022-price-and-location.ipynb Cell 6\u001b[0m in \u001b[0;36m<cell line: 3>\u001b[1;34m()\u001b[0m\n\u001b[0;32m      <a href='vscode-notebook-cell:/c%3A/Users/trieu.pham/Dropbox/Projects/wqu.edu/020-housing-in-buenos-aires/022-price-and-location.ipynb#W4sZmlsZQ%3D%3D?line=0'>1</a>\u001b[0m \u001b[39m# Task 2.2.5: Complete the code below to create a Mapbox scatter plot that shows the location of the apartments in df. \u001b[39;00m\n\u001b[0;32m      <a href='vscode-notebook-cell:/c%3A/Users/trieu.pham/Dropbox/Projects/wqu.edu/020-housing-in-buenos-aires/022-price-and-location.ipynb#W4sZmlsZQ%3D%3D?line=2'>3</a>\u001b[0m fig \u001b[39m=\u001b[39m px\u001b[39m.\u001b[39mscatter_mapbox(\n\u001b[1;32m----> <a href='vscode-notebook-cell:/c%3A/Users/trieu.pham/Dropbox/Projects/wqu.edu/020-housing-in-buenos-aires/022-price-and-location.ipynb#W4sZmlsZQ%3D%3D?line=3'>4</a>\u001b[0m     df,  \u001b[39m# Our DataFrame\u001b[39;00m\n\u001b[0;32m      <a href='vscode-notebook-cell:/c%3A/Users/trieu.pham/Dropbox/Projects/wqu.edu/020-housing-in-buenos-aires/022-price-and-location.ipynb#W4sZmlsZQ%3D%3D?line=4'>5</a>\u001b[0m     lat\u001b[39m=\u001b[39m\u001b[39m\"\u001b[39m\u001b[39mlat\u001b[39m\u001b[39m\"\u001b[39m,\n\u001b[0;32m      <a href='vscode-notebook-cell:/c%3A/Users/trieu.pham/Dropbox/Projects/wqu.edu/020-housing-in-buenos-aires/022-price-and-location.ipynb#W4sZmlsZQ%3D%3D?line=5'>6</a>\u001b[0m     lon\u001b[39m=\u001b[39m\u001b[39m\"\u001b[39m\u001b[39mlon\u001b[39m\u001b[39m\"\u001b[39m,\n\u001b[0;32m      <a href='vscode-notebook-cell:/c%3A/Users/trieu.pham/Dropbox/Projects/wqu.edu/020-housing-in-buenos-aires/022-price-and-location.ipynb#W4sZmlsZQ%3D%3D?line=6'>7</a>\u001b[0m     width\u001b[39m=\u001b[39m\u001b[39m600\u001b[39m,  \u001b[39m# Width of map\u001b[39;00m\n\u001b[0;32m      <a href='vscode-notebook-cell:/c%3A/Users/trieu.pham/Dropbox/Projects/wqu.edu/020-housing-in-buenos-aires/022-price-and-location.ipynb#W4sZmlsZQ%3D%3D?line=7'>8</a>\u001b[0m     height\u001b[39m=\u001b[39m\u001b[39m600\u001b[39m,  \u001b[39m# Height of map\u001b[39;00m\n\u001b[0;32m      <a href='vscode-notebook-cell:/c%3A/Users/trieu.pham/Dropbox/Projects/wqu.edu/020-housing-in-buenos-aires/022-price-and-location.ipynb#W4sZmlsZQ%3D%3D?line=8'>9</a>\u001b[0m     \u001b[39m#color=\"\",\u001b[39;00m\n\u001b[0;32m     <a href='vscode-notebook-cell:/c%3A/Users/trieu.pham/Dropbox/Projects/wqu.edu/020-housing-in-buenos-aires/022-price-and-location.ipynb#W4sZmlsZQ%3D%3D?line=9'>10</a>\u001b[0m     hover_data\u001b[39m=\u001b[39m[\u001b[39m\"\u001b[39m\u001b[39mprice_aprox_usd\u001b[39m\u001b[39m\"\u001b[39m],  \u001b[39m# Display price when hovering mouse over house\u001b[39;00m\n\u001b[0;32m     <a href='vscode-notebook-cell:/c%3A/Users/trieu.pham/Dropbox/Projects/wqu.edu/020-housing-in-buenos-aires/022-price-and-location.ipynb#W4sZmlsZQ%3D%3D?line=10'>11</a>\u001b[0m )\n\u001b[0;32m     <a href='vscode-notebook-cell:/c%3A/Users/trieu.pham/Dropbox/Projects/wqu.edu/020-housing-in-buenos-aires/022-price-and-location.ipynb#W4sZmlsZQ%3D%3D?line=12'>13</a>\u001b[0m fig\u001b[39m.\u001b[39mupdate_layout(mapbox_style\u001b[39m=\u001b[39m\u001b[39m\"\u001b[39m\u001b[39mopen-street-map\u001b[39m\u001b[39m\"\u001b[39m)\n\u001b[0;32m     <a href='vscode-notebook-cell:/c%3A/Users/trieu.pham/Dropbox/Projects/wqu.edu/020-housing-in-buenos-aires/022-price-and-location.ipynb#W4sZmlsZQ%3D%3D?line=14'>15</a>\u001b[0m fig\u001b[39m.\u001b[39mshow()\n",
      "\u001b[1;31mNameError\u001b[0m: name 'df' is not defined"
     ]
    }
   ],
   "source": [
    "# Task 2.2.5: Complete the code below to create a Mapbox scatter plot that shows the location of the apartments in df. \n",
    "\n",
    "fig = px.scatter_mapbox(\n",
    "    df,  # Our DataFrame\n",
    "    lat=\"lat\",\n",
    "    lon=\"lon\",\n",
    "    width=600,  # Width of map\n",
    "    height=600,  # Height of map\n",
    "    #color=\"\",\n",
    "    hover_data=[\"price_aprox_usd\"],  # Display price when hovering mouse over house\n",
    ")\n",
    "\n",
    "fig.update_layout(mapbox_style=\"open-street-map\")\n",
    "\n",
    "fig.show()"
   ]
  }
 ],
 "metadata": {
  "kernelspec": {
   "display_name": "Python 3.9.12 ('base')",
   "language": "python",
   "name": "python3"
  },
  "language_info": {
   "codemirror_mode": {
    "name": "ipython",
    "version": 3
   },
   "file_extension": ".py",
   "mimetype": "text/x-python",
   "name": "python",
   "nbconvert_exporter": "python",
   "pygments_lexer": "ipython3",
   "version": "3.9.12"
  },
  "orig_nbformat": 4,
  "vscode": {
   "interpreter": {
    "hash": "4f2380935a852bfd6cd376048d8438f0291ac020ced12a3def74eecbc5a3998c"
   }
  }
 },
 "nbformat": 4,
 "nbformat_minor": 2
}
