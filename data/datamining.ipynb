{
 "cells": [
  {
   "cell_type": "code",
   "execution_count": 1,
   "metadata": {},
   "outputs": [],
   "source": [
    "import pandas as pd\n",
    "import numpy as np\n",
    "import seaborn as sns\n"
   ]
  },
  {
   "cell_type": "code",
   "execution_count": 2,
   "metadata": {},
   "outputs": [],
   "source": [
    "df1 = pd.read_csv('data.csv')"
   ]
  },
  {
   "cell_type": "code",
   "execution_count": 3,
   "metadata": {},
   "outputs": [
    {
     "name": "stdout",
     "output_type": "stream",
     "text": [
      "<class 'pandas.core.frame.DataFrame'>\n",
      "RangeIndex: 151935 entries, 0 to 151934\n",
      "Data columns (total 18 columns):\n",
      " #   Column                                                 Non-Null Count   Dtype  \n",
      "---  ------                                                 --------------   -----  \n",
      " 0   StoreID                                                151935 non-null  object \n",
      " 1   CounterID                                              151935 non-null  object \n",
      " 2   Date                                                   151935 non-null  object \n",
      " 3   Time                                                   151935 non-null  object \n",
      " 4   InvoiceID                                              151935 non-null  object \n",
      " 5   'vGS25_Topos_OLTP_Transaction_Summary'[TypeofInvoice]  151935 non-null  object \n",
      " 6   ItemName                                               151935 non-null  object \n",
      " 7   Barcode                                                151935 non-null  int64  \n",
      " 8   Sum of Qty                                             151935 non-null  int64  \n",
      " 9   UnitPrice                                              151935 non-null  object \n",
      " 10  Item Discount %                                        151935 non-null  float64\n",
      " 11  Item Discount                                          151935 non-null  object \n",
      " 12  Bill Discount %                                        151935 non-null  float64\n",
      " 13  Bill Discount                                          151935 non-null  object \n",
      " 14  Total Exclude VAT                                      151935 non-null  object \n",
      " 15  VAT%                                                   151935 non-null  int64  \n",
      " 16  VAT Amount                                             151935 non-null  object \n",
      " 17  Total Include VAT                                      151935 non-null  object \n",
      "dtypes: float64(2), int64(3), object(13)\n",
      "memory usage: 20.9+ MB\n"
     ]
    }
   ],
   "source": [
    "df1.dropna(inplace=True)\n",
    "df1.head()\n",
    "df1.info()"
   ]
  },
  {
   "cell_type": "code",
   "execution_count": 4,
   "metadata": {},
   "outputs": [
    {
     "name": "stdout",
     "output_type": "stream",
     "text": [
      "<class 'pandas.core.frame.DataFrame'>\n",
      "RangeIndex: 151935 entries, 0 to 151934\n",
      "Data columns (total 2 columns):\n",
      " #   Column     Non-Null Count   Dtype \n",
      "---  ------     --------------   ----- \n",
      " 0   InvoiceID  151935 non-null  object\n",
      " 1   Barcode    151935 non-null  int64 \n",
      "dtypes: int64(1), object(1)\n",
      "memory usage: 2.3+ MB\n",
      "None\n"
     ]
    },
    {
     "data": {
      "text/plain": [
       "3331"
      ]
     },
     "execution_count": 4,
     "metadata": {},
     "output_type": "execute_result"
    }
   ],
   "source": [
    "df = df1[['InvoiceID','Barcode']]\n",
    "print(df.info())\n",
    "leng = len(np.unique(df['Barcode']))\n",
    "leng"
   ]
  },
  {
   "cell_type": "code",
   "execution_count": 6,
   "metadata": {},
   "outputs": [],
   "source": [
    "\n",
    "pivot_table = df.pivot_table(columns='Barcode',index='InvoiceID', aggfunc=lambda x: 1, fill_value=0)\n",
    "# drop duplicate columns\n",
    "pivot_table = pivot_table.loc[:, ~pivot_table.columns.duplicated()]\n",
    "#pivot_table.head(10)\n",
    "\n",
    "pivot_table.dropna(inplace=True)\n",
    "\n"
   ]
  },
  {
   "cell_type": "code",
   "execution_count": 20,
   "metadata": {},
   "outputs": [
    {
     "name": "stdout",
     "output_type": "stream",
     "text": [
      "Correlation between 7461466 and 50854011 is  -0.00009\n"
     ]
    }
   ],
   "source": [
    "#number_of_chunks = 10 # specify how many output files you want\n",
    "#for idx, chunk in enumerate(np.array_split(pivot_table, number_of_chunks)): # loop over the chunks\n",
    "#  chunk.to_csv(f\"output_file_{idx}.csv\") # save each chunk as a csv file\n",
    "\n",
    "#pivot_table.to_csv('output.csv')\n",
    "\n",
    "# Create a correlation matrix\n",
    "#correlation_matrix = pivot_table.corr()\n",
    " \n",
    "# Visualize the correlation matrix as a heatmap\n",
    "#correlation_matrix.head()\n",
    "\n",
    "value1 = 7461466\n",
    "value2 = 50854011\n",
    "print(f\"Correlation between {value1} and {value2} is \",\"{:.5f}\".format(pivot_table[value1].corr(pivot_table[value2])))"
   ]
  }
 ],
 "metadata": {
  "kernelspec": {
   "display_name": "Python 3.10.9 ('base')",
   "language": "python",
   "name": "python3"
  },
  "language_info": {
   "codemirror_mode": {
    "name": "ipython",
    "version": 3
   },
   "file_extension": ".py",
   "mimetype": "text/x-python",
   "name": "python",
   "nbconvert_exporter": "python",
   "pygments_lexer": "ipython3",
   "version": "3.10.9"
  },
  "orig_nbformat": 4,
  "vscode": {
   "interpreter": {
    "hash": "1f9dc1b3ae429a68711420118f6d37f8a58b48f10f191eebd3a0b961424aad9a"
   }
  }
 },
 "nbformat": 4,
 "nbformat_minor": 2
}
