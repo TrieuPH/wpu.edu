{
 "cells": [
  {
   "cell_type": "code",
   "execution_count": null,
   "metadata": {},
   "outputs": [],
   "source": [
    "# Task 1.2.1: Read these three files into three separate DataFrames named df1, df2, and df3, respectively.\n",
    "\n",
    "import pandas as pd\n",
    "\n",
    "df1 = pd.read_csv('data/mexico-real-estate-1.csv')\n",
    "df2 = pd.read_csv('data/mexico-real-estate-2.csv')\n",
    "df3 = pd.read_csv('data/mexico-real-estate-3.csv')\n"
   ]
  },
  {
   "cell_type": "code",
   "execution_count": null,
   "metadata": {},
   "outputs": [],
   "source": [
    "# Task 1.2.2: Inspect df1 by looking at its shape attribute. \n",
    "# Then use the info method to see the data types and number of missing values for each column. Finally, use the head method to determine to look at the first five rows of your dataset.\n",
    "\n",
    "df1.shape\n",
    "#(700,6)\n",
    "df1.info()\n",
    "\n",
    "df1.head()"
   ]
  },
  {
   "cell_type": "code",
   "execution_count": null,
   "metadata": {},
   "outputs": [],
   "source": [
    "# Task 1.2.3: Clean df1 by dropping rows with NaN values. Then remove the \"$\" and \",\" characters from \"price_usd\" and recast the values in the column as floats.\n",
    "\n",
    "df1.dropna(inplace=True)\n",
    "df1[\"price_usd\"] = df1[\"price_usd\"].str.replace(\"$\",\"\")\n",
    "df1[\"price_usd\"] = df1[\"price_usd\"].str.replace(\",\",\"\")\n",
    "df1[\"price_usd\"] = df1.price_usd.astype(float)\n",
    "\n",
    "#df1.head()\n",
    "df1.info()\n"
   ]
  }
 ],
 "metadata": {
  "language_info": {
   "name": "python"
  },
  "orig_nbformat": 4
 },
 "nbformat": 4,
 "nbformat_minor": 2
}
