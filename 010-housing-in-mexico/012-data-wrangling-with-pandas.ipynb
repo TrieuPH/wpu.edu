{
 "cells": [
  {
   "cell_type": "code",
   "execution_count": null,
   "metadata": {},
   "outputs": [],
   "source": [
    "# Task 1.2.1: Read these three files into three separate DataFrames named df1, df2, and df3, respectively.\n",
    "\n",
    "import pandas as pd\n",
    "\n",
    "df1 = pd.read_csv('data/mexico-real-estate-1.csv')\n",
    "df2 = pd.read_csv('data/mexico-real-estate-2.csv')\n",
    "df3 = pd.read_csv('data/mexico-real-estate-3.csv')\n"
   ]
  },
  {
   "cell_type": "code",
   "execution_count": null,
   "metadata": {},
   "outputs": [],
   "source": [
    "# Task 1.2.2: Inspect df1 by looking at its shape attribute. \n",
    "# Then use the info method to see the data types and number of missing values for each column. Finally, use the head method to determine to look at the first five rows of your dataset.\n",
    "\n",
    "df1.shape\n",
    "#(700,6)\n",
    "df1.info()\n",
    "\n",
    "df1.head()"
   ]
  },
  {
   "cell_type": "code",
   "execution_count": null,
   "metadata": {},
   "outputs": [],
   "source": [
    "# Task 1.2.3: Clean df1 by dropping rows with NaN values. Then remove the \"$\" and \",\" characters from \"price_usd\" and recast the values in the column as floats.\n",
    "\n",
    "df1.dropna(inplace=True)\n",
    "df1[\"price_usd\"] = df1[\"price_usd\"].str.replace(\"$\",\"\",regex=True)\n",
    "df1[\"price_usd\"] = df1[\"price_usd\"].str.replace(\",\",\"\",regex=True)\n",
    "df1[\"price_usd\"] = df1.price_usd.astype(float)\n",
    "\n",
    "df1.head()\n",
    "#df1.info()"
   ]
  },
  {
   "cell_type": "code",
   "execution_count": null,
   "metadata": {},
   "outputs": [],
   "source": [
    "# Task 1.2.4: First, drop rows with NaN values in df2. \n",
    "# Next, use the \"price_mxn\" column to create a new column named \"price_usd\". \n",
    "# (Keep in mind that, when this data was collected in 2014, a dollar cost 19 pesos.) Finally, drop the \"price_mxn\" from the DataFrame.\n",
    "\n",
    "df2.dropna(inplace=True)\n",
    "df2[\"price_usd\"] = df2[\"price_mxn\"]/19\n",
    "df2 = df2.drop(\"price_mxn\",axis=\"columns\")\n",
    "df2.head()"
   ]
  },
  {
   "cell_type": "code",
   "execution_count": null,
   "metadata": {},
   "outputs": [],
   "source": [
    "# Task 1.2.5: Drop rows with NaN values in df3. \n",
    "# Then use the split method to create two new columns from \"lat-lon\" named \"lat\" and \"lon\", respectively.\n",
    "\n",
    "df3.dropna(inplace=True)\n",
    "df3[[\"lat\", \"lon\"]] = df3[\"lat-lon\"].str.split(\",\", expand=True)\n",
    "df3.head()"
   ]
  },
  {
   "cell_type": "code",
   "execution_count": null,
   "metadata": {},
   "outputs": [],
   "source": [
    "# Task 1.2.6: Use the split method again, this time to extract the state for every house. \n",
    "# (Note that the state name always appears after \"México|\" in each string.) Use this information to create a \"state\" column. \n",
    "# Finally, drop the \"place_with_parent_names\" and \"lat-lon\" columns from the DataFrame. \n",
    "\n",
    "df3['state'] = df3[\"place_with_parent_names\"].str.split(\"|\", expand=True)[2]\n",
    "df3 = df3.drop(\"place_with_parent_names\", axis=\"columns\")\n",
    "df3 = df3.drop(\"lat-lon\", axis=\"columns\")\n",
    "#df3.head()\n"
   ]
  },
  {
   "cell_type": "code",
   "execution_count": null,
   "metadata": {},
   "outputs": [],
   "source": [
    "# Task 1.2.7: Use pd.concat to concatenate df1, df2, df3 as new DataFrame named df. \n",
    "# Your new DataFrame should have 1,736 rows and 6 columns:\"property_type\", \"state\", \"lat\", \"lon\", \"area_m2\", \"price_usd\", and \"price_per_m2\"\n",
    "\n",
    "df = pd.concat([df1,df2,df3])\n",
    "print(df.shape)\n",
    "df.head()"
   ]
  },
  {
   "cell_type": "code",
   "execution_count": null,
   "metadata": {},
   "outputs": [],
   "source": [
    "# Task 1.2.8: Save df as a CSV file using the to_csv method. \n",
    "# The file path should be \"./data/mexico-real-estate-clean.csv\". Be sure to set the index argument to False.\n",
    "\n",
    "df.to_csv(\"./data/mexico-real-estate-clean.csv\")"
   ]
  }
 ],
 "metadata": {
  "kernelspec": {
   "display_name": "Python 3.8.13 ('base')",
   "language": "python",
   "name": "python3"
  },
  "language_info": {
   "codemirror_mode": {
    "name": "ipython",
    "version": 3
   },
   "file_extension": ".py",
   "mimetype": "text/x-python",
   "name": "python",
   "nbconvert_exporter": "python",
   "pygments_lexer": "ipython3",
   "version": "3.9.12"
  },
  "orig_nbformat": 4,
  "vscode": {
   "interpreter": {
    "hash": "4f2380935a852bfd6cd376048d8438f0291ac020ced12a3def74eecbc5a3998c"
   }
  }
 },
 "nbformat": 4,
 "nbformat_minor": 2
}
