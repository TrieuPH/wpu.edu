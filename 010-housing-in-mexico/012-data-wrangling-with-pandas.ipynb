{
 "cells": [
  {
   "cell_type": "code",
   "execution_count": null,
   "metadata": {},
   "outputs": [],
   "source": [
    "# Task 1.2.1: Read these three files into three separate DataFrames named df1, df2, and df3, respectively.\n",
    "\n",
    "import pandas as pd\n",
    "\n",
    "df1 = pd.read_csv('data/mexico-real-estate-1.csv')\n",
    "df2 = pd.read_csv('data/mexico-real-estate-2.csv')\n",
    "df3 = pd.read_csv('data/mexico-real-estate-3.csv')\n"
   ]
  },
  {
   "cell_type": "code",
   "execution_count": null,
   "metadata": {},
   "outputs": [],
   "source": [
    "# Task 1.2.2: Inspect df1 by looking at its shape attribute. \n",
    "# Then use the info method to see the data types and number of missing values for each column. Finally, use the head method to determine to look at the first five rows of your dataset.\n",
    "\n",
    "df1.shape\n",
    "#(700,6)\n",
    "df1.info()\n",
    "\n",
    "df1.head()"
   ]
  },
  {
   "cell_type": "code",
   "execution_count": null,
   "metadata": {},
   "outputs": [],
   "source": [
    "# Task 1.2.3: Clean df1 by dropping rows with NaN values. Then remove the \"$\" and \",\" characters from \"price_usd\" and recast the values in the column as floats.\n",
    "\n",
    "df1.dropna(inplace=True)\n",
    "df1[\"price_usd\"] = df1[\"price_usd\"].str.replace(\"$\",\"\",regex=True)\n",
    "df1[\"price_usd\"] = df1[\"price_usd\"].str.replace(\",\",\"\",regex=True)\n",
    "df1[\"price_usd\"] = df1.price_usd.astype(float)\n",
    "\n",
    "df1.head()\n",
    "#df1.info()\n"
   ]
  },
  {
   "cell_type": "code",
   "execution_count": 1,
   "metadata": {},
   "outputs": [
    {
     "ename": "NameError",
     "evalue": "name 'df2' is not defined",
     "output_type": "error",
     "traceback": [
      "\u001b[1;31m---------------------------------------------------------------------------\u001b[0m",
      "\u001b[1;31mNameError\u001b[0m                                 Traceback (most recent call last)",
      "\u001b[1;32mc:\\Users\\trieu.pham\\Dropbox\\Projects\\wqu.edu\\010-housing-in-mexico\\012-data-wrangling-with-pandas.ipynb Cell 4'\u001b[0m in \u001b[0;36m<cell line: 5>\u001b[1;34m()\u001b[0m\n\u001b[0;32m      <a href='vscode-notebook-cell:/c%3A/Users/trieu.pham/Dropbox/Projects/wqu.edu/010-housing-in-mexico/012-data-wrangling-with-pandas.ipynb#ch0000003?line=0'>1</a>\u001b[0m \u001b[39m# Task 1.2.4: First, drop rows with NaN values in df2. \u001b[39;00m\n\u001b[0;32m      <a href='vscode-notebook-cell:/c%3A/Users/trieu.pham/Dropbox/Projects/wqu.edu/010-housing-in-mexico/012-data-wrangling-with-pandas.ipynb#ch0000003?line=1'>2</a>\u001b[0m \u001b[39m# Next, use the \"price_mxn\" column to create a new column named \"price_usd\". \u001b[39;00m\n\u001b[0;32m      <a href='vscode-notebook-cell:/c%3A/Users/trieu.pham/Dropbox/Projects/wqu.edu/010-housing-in-mexico/012-data-wrangling-with-pandas.ipynb#ch0000003?line=2'>3</a>\u001b[0m \u001b[39m# (Keep in mind that, when this data was collected in 2014, a dollar cost 19 pesos.) Finally, drop the \"price_mxn\" from the DataFrame.\u001b[39;00m\n\u001b[1;32m----> <a href='vscode-notebook-cell:/c%3A/Users/trieu.pham/Dropbox/Projects/wqu.edu/010-housing-in-mexico/012-data-wrangling-with-pandas.ipynb#ch0000003?line=4'>5</a>\u001b[0m df2\u001b[39m.\u001b[39mdropna(inplace\u001b[39m=\u001b[39m\u001b[39mTrue\u001b[39;00m)\n\u001b[0;32m      <a href='vscode-notebook-cell:/c%3A/Users/trieu.pham/Dropbox/Projects/wqu.edu/010-housing-in-mexico/012-data-wrangling-with-pandas.ipynb#ch0000003?line=5'>6</a>\u001b[0m df2[\u001b[39m\"\u001b[39m\u001b[39mprice_usd\u001b[39m\u001b[39m\"\u001b[39m] \u001b[39m=\u001b[39m df2[\u001b[39m\"\u001b[39m\u001b[39mprice_mxn\u001b[39m\u001b[39m\"\u001b[39m]\u001b[39m/\u001b[39m\u001b[39m19\u001b[39m\n\u001b[0;32m      <a href='vscode-notebook-cell:/c%3A/Users/trieu.pham/Dropbox/Projects/wqu.edu/010-housing-in-mexico/012-data-wrangling-with-pandas.ipynb#ch0000003?line=7'>8</a>\u001b[0m df2\u001b[39m.\u001b[39mhead()\n",
      "\u001b[1;31mNameError\u001b[0m: name 'df2' is not defined"
     ]
    }
   ],
   "source": [
    "# Task 1.2.4: First, drop rows with NaN values in df2. \n",
    "# Next, use the \"price_mxn\" column to create a new column named \"price_usd\". \n",
    "# (Keep in mind that, when this data was collected in 2014, a dollar cost 19 pesos.) Finally, drop the \"price_mxn\" from the DataFrame.\n",
    "\n",
    "df2.dropna(inplace=True)\n",
    "df2[\"price_usd\"] = df2[\"price_mxn\"]/19\n",
    "\n",
    "df2 = df2.drop(\"price_mxn\",axis=\"columns\")\n",
    "df2.head()"
   ]
  }
 ],
 "metadata": {
  "kernelspec": {
   "display_name": "Python 3.8.13 ('base')",
   "language": "python",
   "name": "python3"
  },
  "language_info": {
   "codemirror_mode": {
    "name": "ipython",
    "version": 3
   },
   "file_extension": ".py",
   "mimetype": "text/x-python",
   "name": "python",
   "nbconvert_exporter": "python",
   "pygments_lexer": "ipython3",
   "version": "3.9.12"
  },
  "orig_nbformat": 4,
  "vscode": {
   "interpreter": {
    "hash": "4f2380935a852bfd6cd376048d8438f0291ac020ced12a3def74eecbc5a3998c"
   }
  }
 },
 "nbformat": 4,
 "nbformat_minor": 2
}
