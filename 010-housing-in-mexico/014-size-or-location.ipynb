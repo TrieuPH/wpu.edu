{
 "cells": [
  {
   "cell_type": "code",
   "execution_count": 1,
   "metadata": {},
   "outputs": [],
   "source": [
    "import matplotlib.pyplot as plt\n",
    "import pandas as pd\n",
    "from IPython.display import VimeoVideo"
   ]
  },
  {
   "cell_type": "code",
   "execution_count": null,
   "metadata": {},
   "outputs": [],
   "source": [
    "# Task 1.4.1: Read the CSV file that you created in the last notebook (\"../small-data/mexico-real-estate-clean.csv\") into a DataFrame named df. \n",
    "# Be sure to check that all your columns are the correct data type before you go to the next task.\n",
    "\n",
    "df = pd.read_csv('./data/mexico-real-estate-clean.csv')\n",
    "df.shape"
   ]
  },
  {
   "cell_type": "code",
   "execution_count": null,
   "metadata": {},
   "outputs": [],
   "source": [
    "# Task 1.4.2: Use the groupby method to create a Series named mean_price_by_state, where the index contains \n",
    "# each state in the dataset and the values correspond to the mean house price for that state. \n",
    "# Make sure your Series is sorted from highest to lowest mean price.\n",
    "\n",
    "mean_price_by_state = df.groupby(\"state\")[\"price_usd\"].mean().sort_values(ascending=False)\n",
    "mean_price_by_state"
   ]
  },
  {
   "cell_type": "code",
   "execution_count": null,
   "metadata": {},
   "outputs": [],
   "source": [
    "# Task 1.4.3: Use mean_price_by_state to create a bar chart of your results. \n",
    "# Make sure the states are sorted from the highest to lowest mean, \n",
    "# that you label the x-axis as \"State\" and the y-axis as \"Mean Price [USD]\", \n",
    "# and give the chart the title \"Mean House Price by State\".\n",
    "\n",
    "mean_price_by_state.plot(\n",
    "    kind=\"bar\", \n",
    "    xlabel = \"State\", \n",
    "    ylabel = \"Mean Price [USD]\", \n",
    "    title= \"Mean House Price by State\"\n",
    ")"
   ]
  },
  {
   "cell_type": "code",
   "execution_count": null,
   "metadata": {},
   "outputs": [],
   "source": [
    "# Task 1.4.4: Create a new column in df called \"price_per_m2\". \n",
    "# This should be the price for each house divided by it's size. \n",
    "\n",
    "df[\"price_per_m2\"] = df[\"price_usd\"]/df[\"area_m2\"]\n",
    "df.head(10)"
   ]
  },
  {
   "cell_type": "code",
   "execution_count": null,
   "metadata": {},
   "outputs": [],
   "source": [
    "# Task 1.4.5: First, use the groupby method to create a Series \n",
    "# where the index contains each state in the dataset and the values correspond to the mean \n",
    "# house price per m2 for that state. Then use the Series to create a bar chart of your results. \n",
    "# Make sure the states are sorted from the highest to lowest mean, \n",
    "# that you label the x-axis as \"State\" and the y-axis as \"Mean Price per M^2[USD]\", \n",
    "# and give the chart the title \"Mean House Price per M^2 by State\". \n",
    "\n",
    "df.groupby(\"state\")[\"price_per_m2\"].mean().sort_values(ascending=False).plot(\n",
    "    kind = \"bar\",\n",
    "    xlabel = \"State\",\n",
    "    ylabel = \"Mean Price per M^2[USD]\",\n",
    "    title = \"Mean House Price per M^2 by State\"\n",
    ")"
   ]
  },
  {
   "cell_type": "code",
   "execution_count": null,
   "metadata": {},
   "outputs": [],
   "source": [
    "# Task 1.4.6: Create a scatter plot from df that represents price as a function of size. \n",
    "# In other words, \"area_m2\" should be on the x-axis, and \"price_usd\" should be on the y-axis. \n",
    "# Be sure to use expressive axis labels (\"Area [sq meters]\" and \"Price [USD]\", respectively).\n",
    "\n",
    "plt.scatter(x=df[\"area_m2\"], y=df[\"price_usd\"])\n",
    "plt.xlabel(\"Area [sq meters]\")\n",
    "plt.ylabel(\"Price [USD]\")"
   ]
  }
 ],
 "metadata": {
  "kernelspec": {
   "display_name": "Python 3.9.12 ('base')",
   "language": "python",
   "name": "python3"
  },
  "language_info": {
   "codemirror_mode": {
    "name": "ipython",
    "version": 3
   },
   "file_extension": ".py",
   "mimetype": "text/x-python",
   "name": "python",
   "nbconvert_exporter": "python",
   "pygments_lexer": "ipython3",
   "version": "3.9.12"
  },
  "orig_nbformat": 4,
  "vscode": {
   "interpreter": {
    "hash": "4f2380935a852bfd6cd376048d8438f0291ac020ced12a3def74eecbc5a3998c"
   }
  }
 },
 "nbformat": 4,
 "nbformat_minor": 2
}
