{
 "cells": [
  {
   "cell_type": "code",
   "execution_count": null,
   "metadata": {},
   "outputs": [],
   "source": [
    "# Task 1.3.1: Read the CSV file that you created in the last notebook (\"../small-data/mexico-real-estate-clean.csv\") into a DataFrame named df. \n",
    "# Be sure to check that all your columns are the correct data type before you go to the next task.\n",
    "\n",
    "import matplotlib.pyplot as plt\n",
    "import pandas as pd\n",
    "import plotly.express as px\n",
    "from IPython.display import VimeoVideo\n",
    "\n",
    "df = pd.read_csv('./data/mexico-real-estate-clean.csv')\n",
    "df.shape"
   ]
  },
  {
   "cell_type": "code",
   "execution_count": null,
   "metadata": {},
   "outputs": [],
   "source": [
    "# Task 1.3.2: Add \"lat\" and \"lon\" to the code below, and run the code. \n",
    "# You'll see a map that's centered on Mexico City, and you can use the \"Zoom Out\" button in the upper-right corner of the map so that you can see the whole country.\n",
    "fig = px.scatter_mapbox(\n",
    "    df,  # Our DataFrame\n",
    "    lat=\"lat\",\n",
    "    lon=\"lon\",\n",
    "    center={\"lat\": 19.43, \"lon\": -99.13},  # Map will be centered on Mexico City\n",
    "    width=600,  # Width of map\n",
    "    height=600,  # Height of map\n",
    "    hover_data=[\"price_usd\"],  # Display price when hovering mouse over house\n",
    ")\n",
    "\n",
    "fig.update_layout(mapbox_style=\"open-street-map\")\n",
    "\n",
    "fig.show()"
   ]
  },
  {
   "cell_type": "code",
   "execution_count": null,
   "metadata": {},
   "outputs": [],
   "source": [
    "# Task 1.3.3: Use the value_counts method on the \"state\" column to determine the 10 most prevalent states in our dataset.\n",
    "\n",
    "#print(df[\"state\"].unique())\n",
    "df[\"state\"].value_counts().head(10)"
   ]
  }
 ],
 "metadata": {
  "kernelspec": {
   "display_name": "Python 3.9.12 ('base')",
   "language": "python",
   "name": "python3"
  },
  "language_info": {
   "codemirror_mode": {
    "name": "ipython",
    "version": 3
   },
   "file_extension": ".py",
   "mimetype": "text/x-python",
   "name": "python",
   "nbconvert_exporter": "python",
   "pygments_lexer": "ipython3",
   "version": "3.9.12"
  },
  "orig_nbformat": 4,
  "vscode": {
   "interpreter": {
    "hash": "4f2380935a852bfd6cd376048d8438f0291ac020ced12a3def74eecbc5a3998c"
   }
  }
 },
 "nbformat": 4,
 "nbformat_minor": 2
}
