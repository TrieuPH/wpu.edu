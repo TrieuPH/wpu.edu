{
 "cells": [
  {
   "cell_type": "code",
   "execution_count": null,
   "metadata": {},
   "outputs": [],
   "source": [
    "import wqet_grader\n",
    "\n",
    "wqet_grader.init(\"Project 1 Assessment\")"
   ]
  },
  {
   "cell_type": "code",
   "execution_count": null,
   "metadata": {},
   "outputs": [],
   "source": [
    "# Import Matplotlib, pandas, and plotly\n",
    "import matplotlib.pyplot as plt\n",
    "import pandas as pd\n",
    "import plotly.express as px"
   ]
  },
  {
   "cell_type": "code",
   "execution_count": null,
   "metadata": {},
   "outputs": [],
   "source": [
    "# Task 1.5.1: Import the CSV file data/brasil-real-estate-1.csv into the DataFrame df1.\n",
    "\n",
    "df1 = pd.read_csv(\"./data/brasil-real-estate-1.csv\")\n",
    "df1.head()"
   ]
  },
  {
   "cell_type": "code",
   "execution_count": null,
   "metadata": {},
   "outputs": [],
   "source": [
    "# Task 1.5.2: Drop all rows with NaN values from the DataFrame df1.\n",
    "\n",
    "df1.dropna(inplace=True)"
   ]
  },
  {
   "cell_type": "code",
   "execution_count": null,
   "metadata": {},
   "outputs": [],
   "source": [
    "# Task 1.5.3: Use the \"lat-lon\" column to create two separate columns in df1: \"lat\" and \"lon\". Make sure that the data type for these new columns is float.\n",
    "\n",
    "df1[[\"lat\", \"lon\"]] = df1[\"lat-lon\"].str.split(\",\", expand=True)\n",
    "df1[\"lat\"] = df1.lat.astype(\"float\")\n",
    "df1[\"lon\"] = df1.lon.astype(\"float\")\n",
    "df1.head(10)"
   ]
  },
  {
   "cell_type": "code",
   "execution_count": null,
   "metadata": {},
   "outputs": [],
   "source": [
    "# Task 1.5.4: Use the \"place_with_parent_names\" column to create a \"state\" column for df1. (Note that the state name always appears after \"|Brasil|\" in each string.)\n",
    "\n",
    "df1['state'] = df1[\"place_with_parent_names\"].str.split(\"|\", expand=True)[2]\n",
    "df1.head(10)\n",
    "df1.info()"
   ]
  },
  {
   "cell_type": "code",
   "execution_count": null,
   "metadata": {},
   "outputs": [],
   "source": [
    "# Task 1.5.5: Transform the \"price_usd\" column of df1 so that all values are floating-point numbers instead of strings. \n",
    "\n",
    "df1[\"price_usd\"] = df1[\"price_usd\"].str.replace(\"$\",\"\",regex=True)\n",
    "df1[\"price_usd\"] = df1[\"price_usd\"].str.replace(\",\",\"\",regex=True)\n",
    "df1[\"price_usd\"] = df1.price_usd.astype(float)\n",
    "df1.info()"
   ]
  },
  {
   "cell_type": "code",
   "execution_count": null,
   "metadata": {},
   "outputs": [],
   "source": [
    "# Task 1.5.6: Drop the \"lat-lon\" and \"place_with_parent_names\" columns from df1.\n",
    "\n",
    "df1 = df1.drop(\"lat-lon\", axis=\"columns\")\n",
    "df1 = df1.drop(\"place_with_parent_names\", axis=\"columns\")"
   ]
  },
  {
   "cell_type": "code",
   "execution_count": null,
   "metadata": {},
   "outputs": [],
   "source": [
    "# Task 1.5.7: Import the CSV file brasil-real-estate-2.csv into the DataFrame df2.\n",
    "\n",
    "df2 = pd.read_csv(\"./data/brasil-real-estate-2.csv\")"
   ]
  },
  {
   "cell_type": "code",
   "execution_count": null,
   "metadata": {},
   "outputs": [],
   "source": [
    "# Task 1.5.8: Use the \"price_brl\" column to create a new column named \"price_usd\". (Keep in mind that, when this data was collected in 2015 and 2016, a US dollar cost 3.19 Brazilian reals.)\n",
    "\n",
    "df2[\"price_usd\"] = df2[\"price_brl\"]/3.19\n",
    "df2.head(10)"
   ]
  },
  {
   "cell_type": "code",
   "execution_count": null,
   "metadata": {},
   "outputs": [],
   "source": [
    "# Task 1.5.9: Drop the \"price_brl\" column from df2, as well as any rows that have NaN values. \n",
    "\n",
    "df2.dropna(inplace=True)\n",
    "df2 = df2.drop(\"price_brl\",axis=\"columns\")"
   ]
  },
  {
   "cell_type": "code",
   "execution_count": null,
   "metadata": {},
   "outputs": [],
   "source": [
    "# Task 1.5.10: Concatenate df1 and df2 to create a new DataFrame named df. \n",
    "\n",
    "df = df = pd.concat([df1,df2])\n",
    "print(\"df shape:\", df.shape)"
   ]
  },
  {
   "cell_type": "code",
   "execution_count": null,
   "metadata": {},
   "outputs": [],
   "source": [
    "fig = px.scatter_mapbox(\n",
    "    df,\n",
    "    lat=\"lat\",\n",
    "    lon=\"lon\",\n",
    "    center={\"lat\": -14.2, \"lon\": -51.9},  # Map will be centered on Brazil\n",
    "    width=600,\n",
    "    height=600,\n",
    "    hover_data=[\"price_usd\"],  # Display price when hovering mouse over house\n",
    ")\n",
    "\n",
    "fig.update_layout(mapbox_style=\"open-street-map\")\n",
    "\n",
    "fig.show()"
   ]
  },
  {
   "cell_type": "code",
   "execution_count": null,
   "metadata": {},
   "outputs": [],
   "source": [
    "# Task 1.5.11: Use the describe method to create a DataFrame summary_stats with the summary statistics for the \"area_m2\" and \"price_usd\" columns.\n",
    "\n",
    "summary_stats = df[[\"area_m2\",\"price_usd\"]].describe()\n",
    "summary_stats"
   ]
  },
  {
   "cell_type": "code",
   "execution_count": null,
   "metadata": {},
   "outputs": [],
   "source": [
    "# Task 1.5.12: Create a histogram of \"price_usd\". Make sure that the x-axis has the label \"Price [USD]\", the y-axis has the label \"Frequency\", and the plot has the title \"Distribution of Home Prices\". Use Matplotlib (plt).\n",
    "\n",
    "# Build histogram\n",
    "plt.hist(df[\"price_usd\"])\n",
    "\n",
    "\n",
    "# Label axes\n",
    "plt.xlabel(\"Price [USD]\")\n",
    "plt.ylabel(\"Frequency\")\n",
    "\n",
    "# Add title\n",
    "plt.title(\"Distribution of Home Prices\")\n",
    "\n",
    "\n",
    "# Don't change the code below 👇\n",
    "plt.savefig(\"images/1-5-12.png\", dpi=150)\n"
   ]
  },
  {
   "cell_type": "code",
   "execution_count": null,
   "metadata": {},
   "outputs": [],
   "source": [
    "# Task 1.5.13: Create a horizontal boxplot of \"area_m2\". Make sure that the x-axis has the label \"Area [sq meters]\" and the plot has the title \"Distribution of Home Sizes\". Use Matplotlib (plt).\n",
    "\n",
    "# Build box plot\n",
    "plt.boxplot(df[\"area_m2\"])\n",
    "\n",
    "\n",
    "# Label x-axis\n",
    "plt.xlabel(\"Area [sq meters]\")\n",
    "\n",
    "# Add title\n",
    "plt.title(\"Distribution of Home Sizes\")\n",
    "\n",
    "# Don't change the code below 👇\n",
    "plt.savefig(\"images/1-5-13.png\", dpi=150)\n"
   ]
  },
  {
   "cell_type": "code",
   "execution_count": null,
   "metadata": {},
   "outputs": [],
   "source": [
    "# Task 1.5.14: Use the groupby method to create a Series named mean_price_by_region that shows the mean home price in each region in Brazil, sorted from smallest to largest.\n",
    "\n",
    "mean_price_by_region = df.groupby(\"region\")[\"price_usd\"].mean().sort_values(ascending=True)\n",
    "mean_price_by_region"
   ]
  },
  {
   "cell_type": "code",
   "execution_count": null,
   "metadata": {},
   "outputs": [],
   "source": [
    "# Task 1.5.15: Use mean_price_by_region to create a bar chart. Make sure you label the x-axis as \"Region\" and the y-axis as \"Mean Price [USD]\", and give the chart the title \"Mean Home Price by Region\". Use pandas.\n",
    "\n",
    "# Build bar chart, label axes, add title\n",
    "mean_price_by_region.plot(\n",
    "    kind=\"bar\",\n",
    "    xlabel=\"Region\",\n",
    "    ylabel=\"Mean Price [USD]\",\n",
    "    title=\"Mean Home Price by Region\"\n",
    ")\n",
    "\n",
    "# Don't change the code below 👇\n",
    "plt.savefig(\"images/1-5-15.png\", dpi=150)\n"
   ]
  },
  {
   "cell_type": "code",
   "execution_count": null,
   "metadata": {},
   "outputs": [],
   "source": [
    "# Task 1.5.16: Create a DataFrame df_south that contains all the homes from df that are in the \"South\" region. \n",
    "\n",
    "df_south = df[df[\"region\"] == \"South\"]\n",
    "df_south.head()"
   ]
  },
  {
   "cell_type": "code",
   "execution_count": null,
   "metadata": {},
   "outputs": [],
   "source": [
    "# Task 1.5.17: Use the value_counts method to create a Series homes_by_state that contains the number of properties in each state in df_south. \n",
    "\n",
    "homes_by_state = df_south[\"state\"].value_counts().head()\n",
    "homes_by_state"
   ]
  },
  {
   "cell_type": "code",
   "execution_count": null,
   "metadata": {},
   "outputs": [],
   "source": [
    "# Task 1.5.18: Create a scatter plot showing price vs. area for the state in df_south that has the largest number of properties. Be sure to label the x-axis \"Area [sq meters]\" and the y-axis \"Price [USD]\"; and use the title \"<name of state>: Price vs. Area\". Use Matplotlib (plt).\n",
    "\n",
    "# Subset data\n",
    "df_south_rgs = df_south[df_south[\"state\"] == \"Rio Grande do Sul\"]\n",
    "\n",
    "# Build scatter plot\n",
    "plt.scatter(x=df_south_rgs[\"area_m2\"],y=df_south_rgs[\"price_usd\"])\n",
    "\n",
    "# Label axes\n",
    "plt.xlabel(\"Area [sq meters]\")\n",
    "plt.ylabel(\"Price [USD]\")\n",
    "\n",
    "# Add title\n",
    "plt.title(\"Rio Grande do Sul: Price vs. Area\")\n",
    "\n",
    "# Don't change the code below 👇\n",
    "plt.savefig(\"images/1-5-18.png\", dpi=150)\n"
   ]
  },
  {
   "cell_type": "code",
   "execution_count": null,
   "metadata": {},
   "outputs": [],
   "source": [
    "# Task 1.5.19: Create a dictionary south_states_corr, where the keys are the names of the three states in the \"South\" region of Brazil, and their associated values are the correlation coefficient between \"area_m2\" and \"price_usd\" in that state.\n",
    "\n",
    "south_states_corr = df_south[\"area_m2\"].corr(df_south[\"price_usd\"])\n",
    "\n",
    "south_states_corr"
   ]
  }
 ],
 "metadata": {
  "kernelspec": {
   "display_name": "Python 3.9.12 ('base')",
   "language": "python",
   "name": "python3"
  },
  "language_info": {
   "codemirror_mode": {
    "name": "ipython",
    "version": 3
   },
   "file_extension": ".py",
   "mimetype": "text/x-python",
   "name": "python",
   "nbconvert_exporter": "python",
   "pygments_lexer": "ipython3",
   "version": "3.9.12"
  },
  "orig_nbformat": 4,
  "vscode": {
   "interpreter": {
    "hash": "4f2380935a852bfd6cd376048d8438f0291ac020ced12a3def74eecbc5a3998c"
   }
  }
 },
 "nbformat": 4,
 "nbformat_minor": 2
}
